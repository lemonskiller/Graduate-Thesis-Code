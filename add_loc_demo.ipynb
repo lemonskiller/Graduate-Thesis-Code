{
 "metadata": {
  "language_info": {
   "codemirror_mode": {
    "name": "ipython",
    "version": 3
   },
   "file_extension": ".py",
   "mimetype": "text/x-python",
   "name": "python",
   "nbconvert_exporter": "python",
   "pygments_lexer": "ipython3",
   "version": "3.6.10-final"
  },
  "orig_nbformat": 2,
  "kernelspec": {
   "name": "Python 3.6.10 64-bit ('py36': conda)",
   "display_name": "Python 3.6.10 64-bit ('py36': conda)",
   "metadata": {
    "interpreter": {
     "hash": "0aed9d064b1229a0afe5c1671c66533932eb3291ddc18b30f178e667a3a2afd7"
    }
   }
  }
 },
 "nbformat": 4,
 "nbformat_minor": 2,
 "cells": [
  {
   "cell_type": "code",
   "execution_count": 1,
   "metadata": {},
   "outputs": [],
   "source": [
    "import pandas as pd"
   ]
  },
  {
   "cell_type": "code",
   "execution_count": 2,
   "metadata": {},
   "outputs": [
    {
     "output_type": "execute_result",
     "data": {
      "text/plain": "   index\n0     75\n1     66\n2     77\n3     64\n4     78",
      "text/html": "<div>\n<style scoped>\n    .dataframe tbody tr th:only-of-type {\n        vertical-align: middle;\n    }\n\n    .dataframe tbody tr th {\n        vertical-align: top;\n    }\n\n    .dataframe thead th {\n        text-align: right;\n    }\n</style>\n<table border=\"1\" class=\"dataframe\">\n  <thead>\n    <tr style=\"text-align: right;\">\n      <th></th>\n      <th>index</th>\n    </tr>\n  </thead>\n  <tbody>\n    <tr>\n      <th>0</th>\n      <td>75</td>\n    </tr>\n    <tr>\n      <th>1</th>\n      <td>66</td>\n    </tr>\n    <tr>\n      <th>2</th>\n      <td>77</td>\n    </tr>\n    <tr>\n      <th>3</th>\n      <td>64</td>\n    </tr>\n    <tr>\n      <th>4</th>\n      <td>78</td>\n    </tr>\n  </tbody>\n</table>\n</div>"
     },
     "metadata": {},
     "execution_count": 2
    }
   ],
   "source": [
    "df=pd.read_csv(r'C:\\lemon\\py_test\\feature_selection\\result\\rosmap_test_loc.csv')\n",
    "df.head()"
   ]
  },
  {
   "cell_type": "code",
   "execution_count": 3,
   "metadata": {},
   "outputs": [
    {
     "output_type": "execute_result",
     "data": {
      "text/plain": "        probe  Coordinate_36\n0  cg05501742          66892\n1  cg07395378          67952\n2  cg04427860          96056\n3  cg00292513         118557\n4  cg16624788         140192",
      "text/html": "<div>\n<style scoped>\n    .dataframe tbody tr th:only-of-type {\n        vertical-align: middle;\n    }\n\n    .dataframe tbody tr th {\n        vertical-align: top;\n    }\n\n    .dataframe thead th {\n        text-align: right;\n    }\n</style>\n<table border=\"1\" class=\"dataframe\">\n  <thead>\n    <tr style=\"text-align: right;\">\n      <th></th>\n      <th>probe</th>\n      <th>Coordinate_36</th>\n    </tr>\n  </thead>\n  <tbody>\n    <tr>\n      <th>0</th>\n      <td>cg05501742</td>\n      <td>66892</td>\n    </tr>\n    <tr>\n      <th>1</th>\n      <td>cg07395378</td>\n      <td>67952</td>\n    </tr>\n    <tr>\n      <th>2</th>\n      <td>cg04427860</td>\n      <td>96056</td>\n    </tr>\n    <tr>\n      <th>3</th>\n      <td>cg00292513</td>\n      <td>118557</td>\n    </tr>\n    <tr>\n      <th>4</th>\n      <td>cg16624788</td>\n      <td>140192</td>\n    </tr>\n  </tbody>\n</table>\n</div>"
     },
     "metadata": {},
     "execution_count": 3
    }
   ],
   "source": [
    "df2=pd.read_csv(r'C:\\lemon\\py_test\\feature_selection\\result\\rosmap_loc.csv')\n",
    "df2.head()"
   ]
  },
  {
   "cell_type": "code",
   "execution_count": 4,
   "metadata": {},
   "outputs": [
    {
     "output_type": "execute_result",
     "data": {
      "text/plain": "   index  index_py\n0     75        74\n1     66        65\n2     77        76\n3     64        63\n4     78        77",
      "text/html": "<div>\n<style scoped>\n    .dataframe tbody tr th:only-of-type {\n        vertical-align: middle;\n    }\n\n    .dataframe tbody tr th {\n        vertical-align: top;\n    }\n\n    .dataframe thead th {\n        text-align: right;\n    }\n</style>\n<table border=\"1\" class=\"dataframe\">\n  <thead>\n    <tr style=\"text-align: right;\">\n      <th></th>\n      <th>index</th>\n      <th>index_py</th>\n    </tr>\n  </thead>\n  <tbody>\n    <tr>\n      <th>0</th>\n      <td>75</td>\n      <td>74</td>\n    </tr>\n    <tr>\n      <th>1</th>\n      <td>66</td>\n      <td>65</td>\n    </tr>\n    <tr>\n      <th>2</th>\n      <td>77</td>\n      <td>76</td>\n    </tr>\n    <tr>\n      <th>3</th>\n      <td>64</td>\n      <td>63</td>\n    </tr>\n    <tr>\n      <th>4</th>\n      <td>78</td>\n      <td>77</td>\n    </tr>\n  </tbody>\n</table>\n</div>"
     },
     "metadata": {},
     "execution_count": 4
    }
   ],
   "source": [
    "df['index_py']=df['index']-1\n",
    "df.head()"
   ]
  },
  {
   "cell_type": "code",
   "execution_count": 5,
   "metadata": {},
   "outputs": [
    {
     "output_type": "execute_result",
     "data": {
      "text/plain": "        probe  Coordinate_36  index_py\n0  cg05501742          66892         0\n1  cg07395378          67952         1\n2  cg04427860          96056         2\n3  cg00292513         118557         3\n4  cg16624788         140192         4",
      "text/html": "<div>\n<style scoped>\n    .dataframe tbody tr th:only-of-type {\n        vertical-align: middle;\n    }\n\n    .dataframe tbody tr th {\n        vertical-align: top;\n    }\n\n    .dataframe thead th {\n        text-align: right;\n    }\n</style>\n<table border=\"1\" class=\"dataframe\">\n  <thead>\n    <tr style=\"text-align: right;\">\n      <th></th>\n      <th>probe</th>\n      <th>Coordinate_36</th>\n      <th>index_py</th>\n    </tr>\n  </thead>\n  <tbody>\n    <tr>\n      <th>0</th>\n      <td>cg05501742</td>\n      <td>66892</td>\n      <td>0</td>\n    </tr>\n    <tr>\n      <th>1</th>\n      <td>cg07395378</td>\n      <td>67952</td>\n      <td>1</td>\n    </tr>\n    <tr>\n      <th>2</th>\n      <td>cg04427860</td>\n      <td>96056</td>\n      <td>2</td>\n    </tr>\n    <tr>\n      <th>3</th>\n      <td>cg00292513</td>\n      <td>118557</td>\n      <td>3</td>\n    </tr>\n    <tr>\n      <th>4</th>\n      <td>cg16624788</td>\n      <td>140192</td>\n      <td>4</td>\n    </tr>\n  </tbody>\n</table>\n</div>"
     },
     "metadata": {},
     "execution_count": 5
    }
   ],
   "source": [
    "df2['index_py']=df2.index\n",
    "df2.head()"
   ]
  },
  {
   "cell_type": "code",
   "execution_count": 7,
   "metadata": {},
   "outputs": [
    {
     "output_type": "execute_result",
     "data": {
      "text/plain": "        probe  Coordinate_36  index_py  index\n0  cg14097153         554191        27     28\n1  cg03278510         701291        49     50\n2  cg13371675         719707        52     53\n3  cg20606662         736330        54     55\n4  cg02273477         746834        55     56",
      "text/html": "<div>\n<style scoped>\n    .dataframe tbody tr th:only-of-type {\n        vertical-align: middle;\n    }\n\n    .dataframe tbody tr th {\n        vertical-align: top;\n    }\n\n    .dataframe thead th {\n        text-align: right;\n    }\n</style>\n<table border=\"1\" class=\"dataframe\">\n  <thead>\n    <tr style=\"text-align: right;\">\n      <th></th>\n      <th>probe</th>\n      <th>Coordinate_36</th>\n      <th>index_py</th>\n      <th>index</th>\n    </tr>\n  </thead>\n  <tbody>\n    <tr>\n      <th>0</th>\n      <td>cg14097153</td>\n      <td>554191</td>\n      <td>27</td>\n      <td>28</td>\n    </tr>\n    <tr>\n      <th>1</th>\n      <td>cg03278510</td>\n      <td>701291</td>\n      <td>49</td>\n      <td>50</td>\n    </tr>\n    <tr>\n      <th>2</th>\n      <td>cg13371675</td>\n      <td>719707</td>\n      <td>52</td>\n      <td>53</td>\n    </tr>\n    <tr>\n      <th>3</th>\n      <td>cg20606662</td>\n      <td>736330</td>\n      <td>54</td>\n      <td>55</td>\n    </tr>\n    <tr>\n      <th>4</th>\n      <td>cg02273477</td>\n      <td>746834</td>\n      <td>55</td>\n      <td>56</td>\n    </tr>\n  </tbody>\n</table>\n</div>"
     },
     "metadata": {},
     "execution_count": 7
    }
   ],
   "source": [
    "res=df2.merge(df,left_on='index_py',right_on='index_py')\n",
    "res.head()"
   ]
  },
  {
   "cell_type": "code",
   "execution_count": 8,
   "metadata": {},
   "outputs": [],
   "source": [
    "res.to_csv(r'C:\\lemon\\py_test\\feature_selection\\result\\rosmap_loc_fin.csv',index=False)"
   ]
  },
  {
   "source": [
    "ADNI"
   ],
   "cell_type": "markdown",
   "metadata": {}
  },
  {
   "cell_type": "code",
   "execution_count": 2,
   "metadata": {},
   "outputs": [
    {
     "output_type": "execute_result",
     "data": {
      "text/plain": [
       "        probe  Coordinate_36\n",
       "0  cg12326440         318170\n",
       "1  cg05202032         370955\n",
       "2  cg16161069         382771\n",
       "3  cg07511836         412048\n",
       "4  cg11218048         434238"
      ],
      "text/html": "<div>\n<style scoped>\n    .dataframe tbody tr th:only-of-type {\n        vertical-align: middle;\n    }\n\n    .dataframe tbody tr th {\n        vertical-align: top;\n    }\n\n    .dataframe thead th {\n        text-align: right;\n    }\n</style>\n<table border=\"1\" class=\"dataframe\">\n  <thead>\n    <tr style=\"text-align: right;\">\n      <th></th>\n      <th>probe</th>\n      <th>Coordinate_36</th>\n    </tr>\n  </thead>\n  <tbody>\n    <tr>\n      <th>0</th>\n      <td>cg12326440</td>\n      <td>318170</td>\n    </tr>\n    <tr>\n      <th>1</th>\n      <td>cg05202032</td>\n      <td>370955</td>\n    </tr>\n    <tr>\n      <th>2</th>\n      <td>cg16161069</td>\n      <td>382771</td>\n    </tr>\n    <tr>\n      <th>3</th>\n      <td>cg07511836</td>\n      <td>412048</td>\n    </tr>\n    <tr>\n      <th>4</th>\n      <td>cg11218048</td>\n      <td>434238</td>\n    </tr>\n  </tbody>\n</table>\n</div>"
     },
     "metadata": {},
     "execution_count": 2
    }
   ],
   "source": [
    "df=pd.read_csv(r'C:\\lemon\\py_test\\feature_selection\\result\\adni_probe_loc.csv')\n",
    "df.head()"
   ]
  },
  {
   "cell_type": "code",
   "execution_count": 11,
   "metadata": {},
   "outputs": [
    {
     "output_type": "execute_result",
     "data": {
      "text/plain": [
       "   matlab_index\n",
       "0          1498\n",
       "1           252\n",
       "2          1520\n",
       "3          1532\n",
       "4          1535"
      ],
      "text/html": "<div>\n<style scoped>\n    .dataframe tbody tr th:only-of-type {\n        vertical-align: middle;\n    }\n\n    .dataframe tbody tr th {\n        vertical-align: top;\n    }\n\n    .dataframe thead th {\n        text-align: right;\n    }\n</style>\n<table border=\"1\" class=\"dataframe\">\n  <thead>\n    <tr style=\"text-align: right;\">\n      <th></th>\n      <th>matlab_index</th>\n    </tr>\n  </thead>\n  <tbody>\n    <tr>\n      <th>0</th>\n      <td>1498</td>\n    </tr>\n    <tr>\n      <th>1</th>\n      <td>252</td>\n    </tr>\n    <tr>\n      <th>2</th>\n      <td>1520</td>\n    </tr>\n    <tr>\n      <th>3</th>\n      <td>1532</td>\n    </tr>\n    <tr>\n      <th>4</th>\n      <td>1535</td>\n    </tr>\n  </tbody>\n</table>\n</div>"
     },
     "metadata": {},
     "execution_count": 11
    }
   ],
   "source": [
    "df2=pd.read_csv(r'C:\\lemon\\MATLAB_test\\sgld\\myresult\\adni_L1_dst_loc.csv')\n",
    "df2.head()"
   ]
  },
  {
   "cell_type": "code",
   "execution_count": 12,
   "metadata": {},
   "outputs": [
    {
     "output_type": "execute_result",
     "data": {
      "text/plain": [
       "   matlab_index  index_py\n",
       "0          1498      1497\n",
       "1           252       251\n",
       "2          1520      1519\n",
       "3          1532      1531\n",
       "4          1535      1534"
      ],
      "text/html": "<div>\n<style scoped>\n    .dataframe tbody tr th:only-of-type {\n        vertical-align: middle;\n    }\n\n    .dataframe tbody tr th {\n        vertical-align: top;\n    }\n\n    .dataframe thead th {\n        text-align: right;\n    }\n</style>\n<table border=\"1\" class=\"dataframe\">\n  <thead>\n    <tr style=\"text-align: right;\">\n      <th></th>\n      <th>matlab_index</th>\n      <th>index_py</th>\n    </tr>\n  </thead>\n  <tbody>\n    <tr>\n      <th>0</th>\n      <td>1498</td>\n      <td>1497</td>\n    </tr>\n    <tr>\n      <th>1</th>\n      <td>252</td>\n      <td>251</td>\n    </tr>\n    <tr>\n      <th>2</th>\n      <td>1520</td>\n      <td>1519</td>\n    </tr>\n    <tr>\n      <th>3</th>\n      <td>1532</td>\n      <td>1531</td>\n    </tr>\n    <tr>\n      <th>4</th>\n      <td>1535</td>\n      <td>1534</td>\n    </tr>\n  </tbody>\n</table>\n</div>"
     },
     "metadata": {},
     "execution_count": 12
    }
   ],
   "source": [
    "df2['index_py']=df2['matlab_index']-1\n",
    "df2.head()"
   ]
  },
  {
   "cell_type": "code",
   "execution_count": 13,
   "metadata": {},
   "outputs": [
    {
     "output_type": "execute_result",
     "data": {
      "text/plain": [
       "        probe  Coordinate_36  index_py\n",
       "0  cg12326440         318170         0\n",
       "1  cg05202032         370955         1\n",
       "2  cg16161069         382771         2\n",
       "3  cg07511836         412048         3\n",
       "4  cg11218048         434238         4"
      ],
      "text/html": "<div>\n<style scoped>\n    .dataframe tbody tr th:only-of-type {\n        vertical-align: middle;\n    }\n\n    .dataframe tbody tr th {\n        vertical-align: top;\n    }\n\n    .dataframe thead th {\n        text-align: right;\n    }\n</style>\n<table border=\"1\" class=\"dataframe\">\n  <thead>\n    <tr style=\"text-align: right;\">\n      <th></th>\n      <th>probe</th>\n      <th>Coordinate_36</th>\n      <th>index_py</th>\n    </tr>\n  </thead>\n  <tbody>\n    <tr>\n      <th>0</th>\n      <td>cg12326440</td>\n      <td>318170</td>\n      <td>0</td>\n    </tr>\n    <tr>\n      <th>1</th>\n      <td>cg05202032</td>\n      <td>370955</td>\n      <td>1</td>\n    </tr>\n    <tr>\n      <th>2</th>\n      <td>cg16161069</td>\n      <td>382771</td>\n      <td>2</td>\n    </tr>\n    <tr>\n      <th>3</th>\n      <td>cg07511836</td>\n      <td>412048</td>\n      <td>3</td>\n    </tr>\n    <tr>\n      <th>4</th>\n      <td>cg11218048</td>\n      <td>434238</td>\n      <td>4</td>\n    </tr>\n  </tbody>\n</table>\n</div>"
     },
     "metadata": {},
     "execution_count": 13
    }
   ],
   "source": [
    "df['index_py']=df.index\n",
    "df.head()"
   ]
  },
  {
   "cell_type": "code",
   "execution_count": 14,
   "metadata": {},
   "outputs": [
    {
     "output_type": "execute_result",
     "data": {
      "text/plain": [
       "        probe  Coordinate_36  index_py  matlab_index\n",
       "0  cg16288125         894243        21            22\n",
       "1  cg23904595        2864692       107           108\n",
       "2  cg01511534        3224641       121           122\n",
       "3  cg18933685        4222306       153           154\n",
       "4  cg02002005        4449308       163           164"
      ],
      "text/html": "<div>\n<style scoped>\n    .dataframe tbody tr th:only-of-type {\n        vertical-align: middle;\n    }\n\n    .dataframe tbody tr th {\n        vertical-align: top;\n    }\n\n    .dataframe thead th {\n        text-align: right;\n    }\n</style>\n<table border=\"1\" class=\"dataframe\">\n  <thead>\n    <tr style=\"text-align: right;\">\n      <th></th>\n      <th>probe</th>\n      <th>Coordinate_36</th>\n      <th>index_py</th>\n      <th>matlab_index</th>\n    </tr>\n  </thead>\n  <tbody>\n    <tr>\n      <th>0</th>\n      <td>cg16288125</td>\n      <td>894243</td>\n      <td>21</td>\n      <td>22</td>\n    </tr>\n    <tr>\n      <th>1</th>\n      <td>cg23904595</td>\n      <td>2864692</td>\n      <td>107</td>\n      <td>108</td>\n    </tr>\n    <tr>\n      <th>2</th>\n      <td>cg01511534</td>\n      <td>3224641</td>\n      <td>121</td>\n      <td>122</td>\n    </tr>\n    <tr>\n      <th>3</th>\n      <td>cg18933685</td>\n      <td>4222306</td>\n      <td>153</td>\n      <td>154</td>\n    </tr>\n    <tr>\n      <th>4</th>\n      <td>cg02002005</td>\n      <td>4449308</td>\n      <td>163</td>\n      <td>164</td>\n    </tr>\n  </tbody>\n</table>\n</div>"
     },
     "metadata": {},
     "execution_count": 14
    }
   ],
   "source": [
    "res=df.merge(df2,left_on='index_py',right_on='index_py')\n",
    "res.head()"
   ]
  },
  {
   "cell_type": "code",
   "execution_count": 15,
   "metadata": {},
   "outputs": [],
   "source": [
    "res.to_csv(r'C:\\lemon\\py_test\\feature_selection\\result\\adni_l1_dst_loc_fin.csv',index=False)"
   ]
  }
 ]
}